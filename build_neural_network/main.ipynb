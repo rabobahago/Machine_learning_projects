{
 "cells": [
  {
   "cell_type": "code",
   "execution_count": null,
   "metadata": {},
   "outputs": [],
   "source": [
    "import numpy as np\n",
    "from sklearn.datasets import load_digits\n",
    "from sklearn.model_selection import train_test_split\n",
    "from sklearn.preprocessing import MinMaxScaler, OneHotEncoder\n",
    "from neural_network import NeuralNetwork\n",
    "from trainer import Trainer\n",
    "\n",
    "# Load the digits dataset\n",
    "digits = load_digits()\n",
    "\n",
    "# Preprocess the dataset\n",
    "scaler = MinMaxScaler()\n",
    "X = scaler.fit_transform(digits.data)\n",
    "y = digits.target\n",
    "\n",
    "# One-hot encode the target output\n",
    "encoder = OneHotEncoder()\n",
    "y_onehot = encoder.fit_transform(y.reshape(-1, 1))\n",
    "\n",
    "# Split the dataset into training and testing sets\n",
    "X_train, X_test, y_train, y_test = train_test_split(X, y_onehot, test_size=0.2, random_state=42)\n",
    "\n",
    "# Create an instance of the NeuralNetwork class\n",
    "input_size = X.shape[1]\n",
    "hidden_size = 64\n",
    "output_size = len(np.unique(y))\n",
    "loss_func = 'categorical_crossentropy'\n",
    "epochs = 1000\n",
    "learning_rate = 0.1\n",
    "\n",
    "nn = NeuralNetwork(input_size, hidden_size, output_size, loss_func)\n",
    "\n",
    "trainer = Trainer(nn, loss_func)\n",
    "trainer.train(X_train, y_train, X_test, y_test, epochs, learning_rate)\n",
    "\n",
    "# Convert y_test from one-hot encoding to labels\n",
    "y_test_labels = np.argmax(y_test, axis=1)\n",
    "\n",
    "# Evaluate the performance of the neural network\n",
    "predictions = np.argmax(nn.forward(X_test), axis=1)\n",
    "accuracy = np.mean(predictions == y_test_labels)\n",
    "print(f\"Accuracy: {accuracy:.2%}\")\n"
   ]
  }
 ],
 "metadata": {
  "kernelspec": {
   "display_name": "Python 3",
   "language": "python",
   "name": "python3"
  },
  "language_info": {
   "codemirror_mode": {
    "name": "ipython",
    "version": 3
   },
   "file_extension": ".py",
   "mimetype": "text/x-python",
   "name": "python",
   "nbconvert_exporter": "python",
   "pygments_lexer": "ipython3",
   "version": "3.10.9"
  }
 },
 "nbformat": 4,
 "nbformat_minor": 2
}
